import numpy as np
import cv2
cap = cv2.VideoCapture(0)
def make_1080p():
    cap.set(5, 1920)
    cap.set(4, 1080)

def make_720p():
    cap.set(5, 1280)
    cap.set(4, 720)

def make_480p():
    cap.set(5, 640)
    cap.set(4, 480)

def change_res(width, height):
    cap.set(5, width)
    cap.set(4, height)
    
# make_480p() ,you can use these predefined functions
change_res(4000, 2000) # max resolution supports according to system's capacity
while(True):
    ret, frame = cap.read()
   
    cv2.imshow('frame',frame)
 
    if cv2.waitKey(20) & 0xFF == ord('q'):
        break
cap.release()
cv2.destroyAllWindows()
