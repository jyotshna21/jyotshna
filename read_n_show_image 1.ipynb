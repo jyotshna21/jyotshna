import cv2
img=cv2.imread('pic.jpg')
cv2.imshow('IMAGE', img)
cv2.waitKey(0)
cv2.destroyAllWindows()
